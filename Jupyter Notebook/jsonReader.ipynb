{
 "cells": [
  {
   "cell_type": "code",
   "execution_count": 8,
   "metadata": {},
   "outputs": [],
   "source": [
    "import json\n",
    "import os"
   ]
  },
  {
   "cell_type": "code",
   "execution_count": 22,
   "metadata": {},
   "outputs": [],
   "source": [
    "pdr_points = []     #empty list for predator co-ordinations\n",
    "\n",
    "pr_points = []      #empty list for prey co-ordinations\n",
    "\n",
    "sample = 'Sample5'\n",
    "    \n",
    "myJSONS = [file for file in os.listdir(sample+'\\\\JSON_Files')] #taking JSON files in a list of a particular sample\n",
    "\n",
    "\n",
    "\n",
    "##fetching co-ordintations of predator and prey to their corresponding lists\n",
    "\n",
    "for file in myJSONS:\n",
    "    myJSON = json.loads(open(sample+'\\\\JSON_Files'+'\\\\'+file,'r').read())  #reading JSON files of a particular sample\n",
    "    \n",
    "    predator=[(myJSON['shapes'][0]['points'][0][0]+myJSON['shapes'][0]['points'][1][0])/2,\n",
    "                (myJSON['shapes'][0]['points'][0][1]+myJSON['shapes'][0]['points'][1][1])/2]        #fetching predator co-ordinations and finding the center point\n",
    "    \n",
    "    prey=[(myJSON['shapes'][1]['points'][0][0]+myJSON['shapes'][1]['points'][1][0])/2,\n",
    "                (myJSON['shapes'][1]['points'][0][1]+myJSON['shapes'][1]['points'][1][1])/2]        #fetching prey co-ordinations and finding the center point\n",
    "\n",
    "\n",
    "    #getting the lists filled with available co-ordinates\n",
    "    \n",
    "    pdr_points.append(predator)\n",
    "    pr_points.append(prey)\n"
   ]
  },
  {
   "cell_type": "code",
   "execution_count": 3,
   "metadata": {},
   "outputs": [],
   "source": [
    "#print(pdr_points)"
   ]
  },
  {
   "cell_type": "code",
   "execution_count": null,
   "metadata": {},
   "outputs": [],
   "source": []
  },
  {
   "cell_type": "code",
   "execution_count": null,
   "metadata": {},
   "outputs": [],
   "source": []
  },
  {
   "cell_type": "code",
   "execution_count": null,
   "metadata": {},
   "outputs": [],
   "source": []
  }
 ],
 "metadata": {
  "kernelspec": {
   "display_name": "Python 3",
   "language": "python",
   "name": "python3"
  },
  "language_info": {
   "codemirror_mode": {
    "name": "ipython",
    "version": 3
   },
   "file_extension": ".py",
   "mimetype": "text/x-python",
   "name": "python",
   "nbconvert_exporter": "python",
   "pygments_lexer": "ipython3",
   "version": "3.7.6"
  }
 },
 "nbformat": 4,
 "nbformat_minor": 4
}
