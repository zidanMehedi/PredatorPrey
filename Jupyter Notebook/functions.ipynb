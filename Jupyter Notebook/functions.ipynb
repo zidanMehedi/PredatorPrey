{
 "cells": [
  {
   "cell_type": "code",
   "execution_count": 1,
   "metadata": {},
   "outputs": [],
   "source": [
    "import math"
   ]
  },
  {
   "cell_type": "code",
   "execution_count": 2,
   "metadata": {},
   "outputs": [],
   "source": [
    "def pixelToCm(x,dpi):\n",
    "    x = (x/dpi)*2.54\n",
    "    return x\n",
    "\n",
    "def distance(lst_x,lst_y):\n",
    "    distance_list = [math.sqrt((lst_x[i+1]-lst_x[i])**2+(lst_y[i+1]-lst_y[i])**2) for i in range(len(lst_x)-1)]\n",
    "    return distance_list\n",
    "\n",
    "def distance_between_objects(lst_x1, lst_y1, lst_x2, lst_y2):\n",
    "    distance_list = [math.sqrt((lst_x2[i]-lst_x1[i])**2+(lst_y2[i]-lst_y1[i])**2) for i in range (len(lst_x1)-1)]\n",
    "    return distance_list\n",
    "\n",
    "def velocity(lst, timeDivision):\n",
    "    prev_velocity = 0\n",
    "    time = timeDivision\n",
    "    post_velocity = []\n",
    "    distance_list = lst\n",
    "    for i in range(len(distance_list)):\n",
    "##      V = prev_velocity+((2*distance_list[i])/time)\n",
    "        V = distance_list[i]/time\n",
    "        post_velocity.append(V)\n",
    "        prev_velocity = V\n",
    "    return post_velocity\n",
    "\n",
    "def acceleartion(lst):\n",
    "    prev_velocity = 0\n",
    "    time = .5\n",
    "    post_velocity = lst\n",
    "    acceleration = []\n",
    "    for i in range(len(post_velocity)):\n",
    "        A = (post_velocity[i]-prev_velocity)/time\n",
    "        acceleration.append(A)\n",
    "        prev_velocity = post_velocity[i]\n",
    "    return acceleration"
   ]
  },
  {
   "cell_type": "code",
   "execution_count": null,
   "metadata": {},
   "outputs": [],
   "source": []
  }
 ],
 "metadata": {
  "kernelspec": {
   "display_name": "Python 3",
   "language": "python",
   "name": "python3"
  },
  "language_info": {
   "codemirror_mode": {
    "name": "ipython",
    "version": 3
   },
   "file_extension": ".py",
   "mimetype": "text/x-python",
   "name": "python",
   "nbconvert_exporter": "python",
   "pygments_lexer": "ipython3",
   "version": "3.7.6"
  }
 },
 "nbformat": 4,
 "nbformat_minor": 4
}
